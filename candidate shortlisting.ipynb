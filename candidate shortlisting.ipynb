{
 "cells": [
  {
   "cell_type": "code",
   "execution_count": 1,
   "metadata": {
    "scrolled": true
   },
   "outputs": [
    {
     "name": "stdout",
     "output_type": "stream",
     "text": [
      "Requirement already satisfied: PyPDF2 in d:\\anaconda\\lib\\site-packages (1.26.0)\n",
      "Note: you may need to restart the kernel to use updated packages.\n"
     ]
    }
   ],
   "source": [
    "pip install PyPDF2"
   ]
  },
  {
   "cell_type": "markdown",
   "metadata": {},
   "source": [
    "The PyPDF2 package is a pure-Python PDF library that you can use for splitting, merging, cropping and transforming pages in your PDFs. According to the PyPDF2 website, you can also use PyPDF2 to add data, viewing options and passwords to the PDFs too. Finally you can use PyPDF2 to extract text and metadata from your PDFs."
   ]
  },
  {
   "cell_type": "code",
   "execution_count": 2,
   "metadata": {
    "scrolled": false
   },
   "outputs": [
    {
     "name": "stdout",
     "output_type": "stream",
     "text": [
      "Requirement already satisfied: textract in d:\\anaconda\\lib\\site-packages (1.6.3)\n",
      "Requirement already satisfied: python-pptx==0.6.18 in d:\\anaconda\\lib\\site-packages (from textract) (0.6.18)\n",
      "Requirement already satisfied: argcomplete==1.10.0 in d:\\anaconda\\lib\\site-packages (from textract) (1.10.0)\n",
      "Requirement already satisfied: EbookLib==0.17.1 in d:\\anaconda\\lib\\site-packages (from textract) (0.17.1)\n",
      "Requirement already satisfied: six==1.12.0 in d:\\anaconda\\lib\\site-packages (from textract) (1.12.0)\n",
      "Requirement already satisfied: beautifulsoup4==4.8.0 in d:\\anaconda\\lib\\site-packages (from textract) (4.8.0)\n",
      "Requirement already satisfied: xlrd==1.2.0 in d:\\anaconda\\lib\\site-packages (from textract) (1.2.0)\n",
      "Requirement already satisfied: SpeechRecognition==3.8.1 in d:\\anaconda\\lib\\site-packages (from textract) (3.8.1)\n",
      "Requirement already satisfied: chardet==3.0.4 in d:\\anaconda\\lib\\site-packages (from textract) (3.0.4)\n",
      "Requirement already satisfied: docx2txt==0.8 in d:\\anaconda\\lib\\site-packages (from textract) (0.8)\n",
      "Requirement already satisfied: extract-msg==0.23.1 in d:\\anaconda\\lib\\site-packages (from textract) (0.23.1)\n",
      "Requirement already satisfied: pdfminer.six==20181108 in d:\\anaconda\\lib\\site-packages (from textract) (20181108)\n",
      "Requirement already satisfied: XlsxWriter>=0.5.7 in d:\\anaconda\\lib\\site-packages (from python-pptx==0.6.18->textract) (1.3.7)\n",
      "Requirement already satisfied: Pillow>=3.3.2 in d:\\anaconda\\lib\\site-packages (from python-pptx==0.6.18->textract) (8.0.1)\n",
      "Requirement already satisfied: lxml>=3.1.0 in d:\\anaconda\\lib\\site-packages (from python-pptx==0.6.18->textract) (4.6.1)\n",
      "Requirement already satisfied: soupsieve>=1.2 in d:\\anaconda\\lib\\site-packages (from beautifulsoup4==4.8.0->textract) (2.0.1)\n",
      "Requirement already satisfied: imapclient==2.1.0 in d:\\anaconda\\lib\\site-packages (from extract-msg==0.23.1->textract) (2.1.0)\n",
      "Requirement already satisfied: olefile==0.46 in d:\\anaconda\\lib\\site-packages (from extract-msg==0.23.1->textract) (0.46)\n",
      "Requirement already satisfied: tzlocal==1.5.1 in d:\\anaconda\\lib\\site-packages (from extract-msg==0.23.1->textract) (1.5.1)\n",
      "Requirement already satisfied: sortedcontainers in d:\\anaconda\\lib\\site-packages (from pdfminer.six==20181108->textract) (2.2.2)\n",
      "Requirement already satisfied: pycryptodome in d:\\anaconda\\lib\\site-packages (from pdfminer.six==20181108->textract) (3.10.1)\n",
      "Requirement already satisfied: pytz in d:\\anaconda\\lib\\site-packages (from tzlocal==1.5.1->extract-msg==0.23.1->textract) (2020.1)\n",
      "Note: you may need to restart the kernel to use updated packages.\n"
     ]
    }
   ],
   "source": [
    "pip install textract"
   ]
  },
  {
   "cell_type": "markdown",
   "metadata": {},
   "source": [
    "Textract is a python library which is used to extract text from a document. We can then use this text for any of the further processing or text analysis. This package provides a single interface for extracting content from any type of file, without any irrelevant markup."
   ]
  },
  {
   "cell_type": "code",
   "execution_count": 1,
   "metadata": {},
   "outputs": [],
   "source": [
    "import PyPDF2\n",
    "import textract\n",
    "import re\n",
    "import string\n",
    "import pandas as pd\n",
    "import matplotlib.pyplot as plt\n",
    "%matplotlib inline\n",
    "\n"
   ]
  },
  {
   "cell_type": "code",
   "execution_count": 2,
   "metadata": {},
   "outputs": [],
   "source": [
    "pdfFileObj = open('resumeVIP3.pdf','rb')\n",
    "\n",
    "pdfReader = PyPDF2.PdfFileReader(pdfFileObj)\n",
    "\n",
    "num_pages = pdfReader.numPages\n",
    "\n",
    "count = 0\n",
    "\n",
    "text = \"\"\n",
    "\n",
    "while count < num_pages:\n",
    "    pageObj = pdfReader.getPage(count)\n",
    "    count +=1\n",
    "    text += pageObj.extractText()\n",
    "    \n",
    "text = text.lower()\n",
    "\n",
    "text = re.sub(r'\\d+','',text)\n",
    "\n",
    "text = text.translate(str.maketrans('','',string.punctuation))\n",
    "\n",
    "terms = {\n",
    "    \n",
    "    'Basic Education':['bachelor','btech','b tech', 'diploma'],\n",
    "    \n",
    "    'High Education': ['master','mtech','m tech','doctorate'],\n",
    "    \n",
    "    'Speciality1': ['computer','it','information technology'],\n",
    "    \n",
    "    'Speciality2': ['electrical','electronics'],\n",
    "    \n",
    "    'College': ['iit','nit','indian institute of technology','national institute of technology',\n",
    "                \n",
    "                'vit','vellore institute of technology'],\n",
    "    \n",
    "    'Programming': ['analytics','api','aws','big data','business intelligence','clustering','code','coding',\n",
    "                    \n",
    "                    'data','database','data mining','data science','deep learning','hadoop',\n",
    "                    \n",
    "                    'hypothesis test','iot','internet','machine learning','modeling','nosql','nlp',\n",
    "                    \n",
    "                    'predictive','programming','python','r','sql','tableau','text mining','visualuzation'],\n",
    "    \n",
    "    'Achievement': ['google summer of code','gsoc', 'hackathon','hack-a-thon'],\n",
    "    \n",
    "    'Skills': ['head','leader','team player','patience','hark working','professional','honest'],\n",
    "    \n",
    "    'Work Experience': ['internship', 'intern','part time','part-time','freelancing'],\n",
    "    \n",
    "    'Projects' : ['image classification', 'nlp','natural language processing','gesture sense','regression','perceptron'],\n",
    "    \n",
    "    'Competitive Coding' : ['hackerrank','codechef','leetcode','coderbyte','codewars']\n",
    "    \n",
    "    \n",
    "    \n",
    "}\n",
    "\n",
    "\n",
    "\n"
   ]
  },
  {
   "cell_type": "code",
   "execution_count": 3,
   "metadata": {},
   "outputs": [],
   "source": [
    "# Initializie score counters for each area\n",
    "basic_edu = 0\n",
    "high_edu = 0\n",
    "special1 = 0\n",
    "special2 = 0\n",
    "college = 0\n",
    "program = 0\n",
    "achievement = 0\n",
    "skills = 0\n",
    "experience = 0\n",
    "project = 0\n",
    "coding = 0\n",
    "total_points = 0\n",
    "\n",
    "\n"
   ]
  },
  {
   "cell_type": "code",
   "execution_count": 4,
   "metadata": {},
   "outputs": [],
   "source": [
    "a = []\n",
    "b = []\n",
    "c = []\n",
    "d = []\n",
    "e = []\n",
    "f = []\n",
    "g = []\n",
    "h = []\n",
    "i = []\n",
    "j = []\n",
    "k = []"
   ]
  },
  {
   "cell_type": "code",
   "execution_count": 5,
   "metadata": {
    "scrolled": true
   },
   "outputs": [
    {
     "name": "stdout",
     "output_type": "stream",
     "text": [
      "btech\n",
      "mtech\n",
      "computer\n",
      "it\n",
      "vit\n",
      "api\n",
      "aws\n",
      "coding\n",
      "data\n",
      "iot\n",
      "nosql\n",
      "programming\n",
      "python\n",
      "r\n",
      "sql\n",
      "hackathon\n",
      "leader\n",
      "honest\n",
      "internship\n",
      "intern\n",
      "image classification\n",
      "regression\n",
      "hackerrank\n"
     ]
    }
   ],
   "source": [
    "for area in terms.keys():\n",
    "    \n",
    "    if area == 'Basic Education':\n",
    "        for word in terms[area]:\n",
    "            if word.lower() in text:\n",
    "                basic_edu += 15\n",
    "                print(word)\n",
    "                a.append(word)\n",
    "        total_points = total_points + 15\n",
    "    \n",
    "    elif area == 'High Education':\n",
    "        for word in terms[area]:\n",
    "            if word.lower() in text:\n",
    "                high_edu += 30\n",
    "                print(word)\n",
    "                b.append(word)\n",
    "        total_points = total_points + 30\n",
    "                \n",
    "    elif area == 'Speciality1':\n",
    "        for word in terms[area]:\n",
    "            if word.lower() in text:\n",
    "                special1 += 25\n",
    "                print(word)\n",
    "                c.append(word)\n",
    "        total_points = total_points + 25\n",
    "                \n",
    "    elif area == 'Speciality2':\n",
    "        for word in terms[area]:\n",
    "            if word.lower() in text:\n",
    "                special2 += 15\n",
    "                print(word)\n",
    "                d.append(word)\n",
    "        total_points = total_points + 15\n",
    "\n",
    "    elif area == 'College':\n",
    "        for word in terms[area]:\n",
    "            if word.lower() in text:\n",
    "                college += 30\n",
    "                print(word)\n",
    "                e.append(word)\n",
    "        total_points = total_points + 30\n",
    "                \n",
    "    elif area == 'Programming':\n",
    "        for word in terms[area]:\n",
    "            if word.lower() in text:\n",
    "                program += 10\n",
    "                print(word)\n",
    "                f.append(word)\n",
    "        total_points = total_points + 10\n",
    "                \n",
    "    elif area == 'Achievement':\n",
    "        for word in terms[area]:\n",
    "            if word.lower() in text:\n",
    "                achievement += 25\n",
    "                print(word)\n",
    "                g.append(word)\n",
    "        total_points = total_points + 25\n",
    "                \n",
    "    elif area == 'Skills':\n",
    "        for word in terms[area]:\n",
    "            if word.lower() in text:\n",
    "                skills += 5\n",
    "                print(word)\n",
    "                h.append(word)\n",
    "        total_points = total_points + 5\n",
    "        \n",
    "    elif area == 'Work Experience':\n",
    "        for word in terms[area]:\n",
    "            if word.lower() in text:\n",
    "                experience += 20\n",
    "                print(word)\n",
    "                i.append(word)\n",
    "        total_points = total_points + 20\n",
    "        \n",
    "        \n",
    "    elif area == 'Projects':\n",
    "        for word in terms[area]:\n",
    "            if word.lower() in text:\n",
    "                project += 10\n",
    "                print(word)\n",
    "                j.append(word)\n",
    "        total_points = total_points + 10\n",
    "        \n",
    "    elif area == 'Competitive Coding':\n",
    "        for word in terms[area]:\n",
    "            if word.lower() in text:\n",
    "                coding += 15\n",
    "                print(word)\n",
    "                k.append(word)\n",
    "        total_points = total_points + 15\n",
    "        \n",
    "\n",
    "   "
   ]
  },
  {
   "cell_type": "code",
   "execution_count": 6,
   "metadata": {},
   "outputs": [
    {
     "name": "stdout",
     "output_type": "stream",
     "text": [
      "Total points scored by the candidate is 200\n"
     ]
    }
   ],
   "source": [
    "print(\"Total points scored by the candidate is {}\".format(total_points))\n",
    "                \n",
    "     \n",
    "# # Create a data frame with the scores summary\n",
    "# summary = pd.DataFrame(scores,index=terms.keys(),columns=['score']).sort_values(by='score',ascending=False)\n",
    "# summary\n",
    "\n",
    "\n",
    "# # Save pie chart as a .png file\n",
    "# pie.savefig('resume_screening_results.png')\n",
    "# print(quality)\n",
    "# print(operations)\n",
    "# print(supplychain)\n",
    "# print(project)\n",
    "# print(data)\n",
    "# print(healthcare)"
   ]
  },
  {
   "cell_type": "code",
   "execution_count": 7,
   "metadata": {},
   "outputs": [],
   "source": [
    "scores = [basic_edu, high_edu, special1, special2, college, program, achievement, skills, experience, project, coding]"
   ]
  },
  {
   "cell_type": "code",
   "execution_count": 8,
   "metadata": {},
   "outputs": [
    {
     "data": {
      "text/plain": [
       "[15, 30, 50, 0, 30, 100, 25, 10, 40, 20, 15]"
      ]
     },
     "execution_count": 8,
     "metadata": {},
     "output_type": "execute_result"
    }
   ],
   "source": [
    "scores"
   ]
  },
  {
   "cell_type": "code",
   "execution_count": 9,
   "metadata": {
    "scrolled": true
   },
   "outputs": [
    {
     "data": {
      "text/plain": [
       "['Basic Education',\n",
       " 'High Education',\n",
       " 'Speciality1',\n",
       " 'Speciality2',\n",
       " 'College',\n",
       " 'Programming',\n",
       " 'Achievement',\n",
       " 'Skills',\n",
       " 'Work Experience',\n",
       " 'Projects',\n",
       " 'Competitive Coding']"
      ]
     },
     "execution_count": 9,
     "metadata": {},
     "output_type": "execute_result"
    }
   ],
   "source": [
    "labels = ['Basic Education','High Education','Speciality1', 'Speciality2','College','Programming','Achievement','Skills','Work Experience','Projects','Competitive Coding']\n",
    "\n",
    "labels"
   ]
  },
  {
   "cell_type": "markdown",
   "metadata": {},
   "source": [
    "# Job specific Section"
   ]
  },
  {
   "cell_type": "code",
   "execution_count": 10,
   "metadata": {},
   "outputs": [],
   "source": [
    "naukri = {\n",
    "    \n",
    "    'Software Engineer': ['software engineer'],\n",
    "    \n",
    "    'Hardware Engineer' : ['hardware engineer'],\n",
    "    \n",
    "    'Project Lead' : ['project lead'],\n",
    "    \n",
    "    'Software Architect' : ['software architect'],\n",
    "    \n",
    "    'Knowledge Architect' : ['knowledge architect'],\n",
    "    \n",
    "    'Testing Lab Head' : ['testing lab head'],\n",
    "    \n",
    "    'Associate Engineer' : ['associate engineer'],\n",
    "    \n",
    "    'Trainee' : ['trainee']\n",
    "    \n",
    "}\n",
    "\n",
    "\n",
    "\n",
    "  "
   ]
  },
  {
   "cell_type": "code",
   "execution_count": 11,
   "metadata": {},
   "outputs": [],
   "source": [
    "job_applied = 'Unknown'"
   ]
  },
  {
   "cell_type": "code",
   "execution_count": 12,
   "metadata": {},
   "outputs": [
    {
     "name": "stdout",
     "output_type": "stream",
     "text": [
      "The candidate has applied for Software Architect\n"
     ]
    }
   ],
   "source": [
    "for jobs in naukri.keys():\n",
    "    if jobs == 'Software Engineer':\n",
    "        for word in naukri[jobs]:\n",
    "            if word.lower() in text:\n",
    "                job_applied = 'Software Engineer'\n",
    "                print(\"The candidate has applied for {}\".format(job_applied))\n",
    "                break\n",
    "                \n",
    "    elif jobs == 'Hardware Engineer':\n",
    "        for word in naukri[jobs]:\n",
    "            if word.lower() in text:\n",
    "                job_applied = 'Hardware Engineer'\n",
    "                print(\"The candidate has applied for {}\".format(job_applied))\n",
    "                break\n",
    "                \n",
    "                \n",
    "    elif jobs == 'Project Lead':\n",
    "        for word in naukri[jobs]:\n",
    "            if word.lower() in text:\n",
    "                job_applied = 'Project Lead'\n",
    "                print(\"The candidate has applied for {}\".format(job_applied))\n",
    "                break\n",
    "\n",
    "    elif jobs == 'Software Architect':\n",
    "        for word in naukri[jobs]:\n",
    "            if word.lower() in text:\n",
    "                job_applied = 'Software Architect'\n",
    "                print(\"The candidate has applied for {}\".format(job_applied))\n",
    "                break\n",
    "                \n",
    "    elif jobs == 'Knowledge Architect':\n",
    "        for word in naukri[jobs]:\n",
    "            if word.lower() in text:\n",
    "                job_applied = 'Knowledge Architect'\n",
    "                print(\"The candidate has applied for {}\".format(job_applied))\n",
    "                break\n",
    "                \n",
    "    elif jobs == 'Testing Lab Head':\n",
    "        for word in naukri[jobs]:\n",
    "            if word.lower() in text:\n",
    "                job_applied = 'Testing Lab Head'\n",
    "                print(\"The candidate has applied for {}\".format(job_applied))\n",
    "                break\n",
    "    \n",
    "    elif jobs == 'Associate Engineer':\n",
    "        for word in naukri[jobs]:\n",
    "            if word.lower() in text:\n",
    "                job_applied = 'Associate Engineer'\n",
    "                print(\"The candidate has applied for {}\".format(job_applied))\n",
    "                break\n",
    "                \n",
    "                \n",
    "    elif jobs == 'Trainee':\n",
    "        for word in naukri[jobs]:\n",
    "            if word.lower() in text:\n",
    "                job_applied = 'Trainee'\n",
    "                print(\"The candidate has applied for {}\".format(job_applied))\n",
    "                break\n",
    "                \n",
    "    elif job_applied == 'Unknown':\n",
    "        print(\"The candidate has not chosen any particular job designation\")\n",
    "    \n",
    "    \n",
    "    \n",
    "        "
   ]
  },
  {
   "cell_type": "markdown",
   "metadata": {},
   "source": [
    "## Dataframe showing scores in each field"
   ]
  },
  {
   "cell_type": "code",
   "execution_count": 13,
   "metadata": {},
   "outputs": [
    {
     "data": {
      "text/html": [
       "<div>\n",
       "<style scoped>\n",
       "    .dataframe tbody tr th:only-of-type {\n",
       "        vertical-align: middle;\n",
       "    }\n",
       "\n",
       "    .dataframe tbody tr th {\n",
       "        vertical-align: top;\n",
       "    }\n",
       "\n",
       "    .dataframe thead th {\n",
       "        text-align: right;\n",
       "    }\n",
       "</style>\n",
       "<table border=\"1\" class=\"dataframe\">\n",
       "  <thead>\n",
       "    <tr style=\"text-align: right;\">\n",
       "      <th></th>\n",
       "      <th>score</th>\n",
       "    </tr>\n",
       "  </thead>\n",
       "  <tbody>\n",
       "    <tr>\n",
       "      <th>Programming</th>\n",
       "      <td>100</td>\n",
       "    </tr>\n",
       "    <tr>\n",
       "      <th>Speciality1</th>\n",
       "      <td>50</td>\n",
       "    </tr>\n",
       "    <tr>\n",
       "      <th>Work Experience</th>\n",
       "      <td>40</td>\n",
       "    </tr>\n",
       "    <tr>\n",
       "      <th>High Education</th>\n",
       "      <td>30</td>\n",
       "    </tr>\n",
       "    <tr>\n",
       "      <th>College</th>\n",
       "      <td>30</td>\n",
       "    </tr>\n",
       "    <tr>\n",
       "      <th>Achievement</th>\n",
       "      <td>25</td>\n",
       "    </tr>\n",
       "    <tr>\n",
       "      <th>Projects</th>\n",
       "      <td>20</td>\n",
       "    </tr>\n",
       "    <tr>\n",
       "      <th>Basic Education</th>\n",
       "      <td>15</td>\n",
       "    </tr>\n",
       "    <tr>\n",
       "      <th>Competitive Coding</th>\n",
       "      <td>15</td>\n",
       "    </tr>\n",
       "    <tr>\n",
       "      <th>Skills</th>\n",
       "      <td>10</td>\n",
       "    </tr>\n",
       "    <tr>\n",
       "      <th>Speciality2</th>\n",
       "      <td>0</td>\n",
       "    </tr>\n",
       "  </tbody>\n",
       "</table>\n",
       "</div>"
      ],
      "text/plain": [
       "                    score\n",
       "Programming           100\n",
       "Speciality1            50\n",
       "Work Experience        40\n",
       "High Education         30\n",
       "College                30\n",
       "Achievement            25\n",
       "Projects               20\n",
       "Basic Education        15\n",
       "Competitive Coding     15\n",
       "Skills                 10\n",
       "Speciality2             0"
      ]
     },
     "execution_count": 13,
     "metadata": {},
     "output_type": "execute_result"
    }
   ],
   "source": [
    "summary = pd.DataFrame(scores,index=terms.keys(),columns=['score']).sort_values(by='score',ascending=False)\n",
    "summary"
   ]
  },
  {
   "cell_type": "markdown",
   "metadata": {},
   "source": [
    "## Pie Chart showing distribution of scores among various fields"
   ]
  },
  {
   "cell_type": "code",
   "execution_count": 14,
   "metadata": {
    "scrolled": true
   },
   "outputs": [
    {
     "data": {
      "image/png": "[encoded data removed]",
      "text/plain": [
       "<Figure size 432x288 with 1 Axes>"
      ]
     },
     "metadata": {},
     "output_type": "display_data"
    }
   ],
   "source": [
    "fig, ax = plt.subplots()\n",
    "ax.pie(scores, labels=labels, autopct='%1.1f%%')\n",
    "ax.axis('equal')  # Equal aspect ratio ensures the pie chart is circular.\n",
    "ax.set_title('Various Scoring areas of resume')\n",
    "plt.rcParams[\"figure.figsize\"] = (15,15)\n",
    "\n",
    "\n",
    "plt.show()"
   ]
  },
  {
   "cell_type": "markdown",
   "metadata": {},
   "source": [
    "## Save the pie chart to the desktop"
   ]
  },
  {
   "cell_type": "code",
   "execution_count": 15,
   "metadata": {},
   "outputs": [],
   "source": [
    "fig.savefig('resume_screening_results.png')"
   ]
  },
  {
   "cell_type": "markdown",
   "metadata": {},
   "source": [
    "## How text looks when read by the program"
   ]
  },
  {
   "cell_type": "code",
   "execution_count": 16,
   "metadata": {},
   "outputs": [
    {
     "data": {
      "text/plain": [
       "'name \\n\\n \\nvipul sharma\\n \\n \\nage \\n\\n \\n\\n \\n \\ncollege \\n\\n \\nvit vellore\\n \\n \\nmarried \\n\\n \\nno\\n \\n \\nphone number \\n\\n \\n\\n \\n \\n \\nspeciality \\n\\n \\ncomputer science\\n \\n \\neducation \\n\\n \\nbtech and mtech\\n \\n \\n \\nprogramming skills \\n\\n \\n \\nr\\n \\npython\\n \\napi\\n \\nnosql\\n \\naws\\n \\nsql\\n \\n \\n \\nnon technical skills \\n\\n \\ni am good at being\\n \\na leader of a group  i have organized many workshops \\nand events in my college i am an honest person\\n \\n \\ncoding\\n \\n \\n \\nwork experience \\n\\n \\ninternship at paypal for  months\\n \\n \\nextra achievements \\n\\n \\nwon first prize in  hackathon and participated in many others\\n \\n \\n \\nli\\nst of projects \\n\\n \\n \\n \\nml project on image classification\\n \\nregression project on compare different \\naspects of a dataset\\n \\niot project on smart city\\n \\niot project on smart house\\n \\n \\ncompetitive coding \\n\\n \\ni have been practising my coding in hackerrank since my \\nnd\\n \\nyear in college \\n \\napplying for software architect \\n \\n \\n'"
      ]
     },
     "execution_count": 16,
     "metadata": {},
     "output_type": "execute_result"
    }
   ],
   "source": [
    "text"
   ]
  },
  {
   "cell_type": "markdown",
   "metadata": {},
   "source": [
    "# RESUME CLASSIFICATION"
   ]
  },
  {
   "cell_type": "markdown",
   "metadata": {},
   "source": [
    "## Check if the candidate is eligible for the interview"
   ]
  },
  {
   "cell_type": "code",
   "execution_count": 17,
   "metadata": {},
   "outputs": [],
   "source": [
    "def check_student_eligibility():\n",
    "    if(total_points > 180):\n",
    "        print(\"The candidate passed with flying colors\")\n",
    "    elif(total_points > 160):\n",
    "        print(\"The candidate is very much eligible for the interview\")\n",
    "    elif(total_points > 140):\n",
    "        print(\"The candidate barely passed the online screening\")\n",
    "    else:\n",
    "        print(\"Candidate is not eligible for the interview\")"
   ]
  },
  {
   "cell_type": "code",
   "execution_count": 18,
   "metadata": {},
   "outputs": [],
   "source": [
    "def job_chosen(x):\n",
    "    \n",
    "    if(total_points > 190 and x == 'Software Engineer'):\n",
    "        print(\"The candidate is eligible to sit for the interview of {}\".format(job_applied))\n",
    "        \n",
    "    elif(total_points > 180 and x == 'Hardware Engineer'):\n",
    "        print(\"The candidate is eligible to sit for the interview of {}\".format(job_applied))\n",
    "        \n",
    "    elif(total_points > 170 and x == 'Project Lead'):\n",
    "        print(\"The candidate is eligible to sit for the interview of {}\".format(job_applied))\n",
    "        \n",
    "    elif(total_points > 160 and x == 'Software Architect'):\n",
    "        print(\"The candidate is eligible to sit for the interview of {}\".format(job_applied))\n",
    "        \n",
    "    elif(total_points > 155 and x == 'Knowledge Architect'):\n",
    "        print(\"The candidate is eligible to sit for the interview of {}\".format(job_applied))\n",
    "    \n",
    "    elif(total_points > 150 and x == 'Testing Lab Head'):\n",
    "        print(\"The candidate is eligible to sit for the interview of {}\".format(job_applied))\n",
    "        \n",
    "    elif(total_points > 145 and x == 'Associate Engineer'):\n",
    "        print(\"The candidate is eligible to sit for the interview of {}\".format(job_applied))\n",
    "        \n",
    "        \n",
    "    elif(total_points > 140 and x == 'Trainee'):\n",
    "        print(\"The candidate is eligible to sit for the interview of {}\".format(job_applied))\n",
    "        \n",
    "    elif(x == 'Unknown'):\n",
    "        check_student_eligibility()"
   ]
  },
  {
   "cell_type": "code",
   "execution_count": 19,
   "metadata": {},
   "outputs": [
    {
     "name": "stdout",
     "output_type": "stream",
     "text": [
      "The candidate is eligible to sit for the interview of Software Architect\n"
     ]
    }
   ],
   "source": [
    "job_chosen(job_applied)"
   ]
  },
  {
   "cell_type": "markdown",
   "metadata": {},
   "source": [
    "## HR CORNER\n"
   ]
  },
  {
   "cell_type": "code",
   "execution_count": 20,
   "metadata": {},
   "outputs": [],
   "source": [
    "def details(x):\n",
    "    if (x == \"Basic Education\"):\n",
    "        for i in range(len(a)):\n",
    "            print(\"The word found related to Basic Education is : {}\".format(a[i]))\n",
    "            \n",
    "    elif (x == \"High Education\"):\n",
    "        for i in range(len(b)):\n",
    "            print(\"The word found related to High Education is : {}\".format(b[i]))\n",
    "    \n",
    "    elif (x == \"Speciality1\"):\n",
    "        \n",
    "        for i in range(len(c)):\n",
    "                print(\"The word found related to Speciality1 is : {}\".format(c[i]))\n",
    "            \n",
    "    elif (x == \"Speciality2\"):\n",
    "        \n",
    "        for i in range(len(d)):\n",
    "            print(\"The word found related to Speciality2 is : {}\".format(d[i]))\n",
    "            \n",
    "            \n",
    "    elif (x == \"College\"):\n",
    "        \n",
    "        for i in range(len(e)):\n",
    "            print(\"The word found related to College is : {}\".format(e[i]))\n",
    "        \n",
    "            \n",
    "            \n",
    "    elif (x == \"Programming\"):\n",
    "        \n",
    "        for i in range(len(f)):\n",
    "            print(\"The word found related to Programming is : {}\".format(f[i]))\n",
    "            \n",
    "    elif (x == \"Achievement\"):\n",
    "        \n",
    "        for i in range(len(g)):\n",
    "            print(\"The word found related to Achievement is : {}\".format(g[i]))\n",
    "            \n",
    "    elif (x == \"Skills\"):\n",
    "        \n",
    "        for i in range(len(h)):\n",
    "            print(\"The word found related to Skills is : {}\".format(h[i]))\n",
    "            \n",
    "    elif (x == \"Work Experience\"):\n",
    "        \n",
    "        \n",
    "        for i in range(len(i)):\n",
    "            print(\"The word found related to Work Experience is : {}\".format(i[i]))\n",
    "            \n",
    "    elif (x == \"Projects\"):\n",
    "        \n",
    "            \n",
    "        for i in range(len(j)):\n",
    "            print(\"The word found related to Projects is : {}\".format(j[i]))\n",
    "            \n",
    "    elif (x == \"Competitive Coding\"):\n",
    "        \n",
    "            \n",
    "        for i in range(len(k)):\n",
    "            print(\"The word found related to Competitive Coding is : {}\".format(k[i]))\n",
    "    \n",
    "    else:\n",
    "        print(\"Wrong Input. Field doesn't exist\")\n",
    "            \n",
    "            "
   ]
  },
  {
   "cell_type": "code",
   "execution_count": 21,
   "metadata": {},
   "outputs": [
    {
     "name": "stdout",
     "output_type": "stream",
     "text": [
      "The word found related to Programming is : api\n",
      "The word found related to Programming is : aws\n",
      "The word found related to Programming is : coding\n",
      "The word found related to Programming is : data\n",
      "The word found related to Programming is : iot\n",
      "The word found related to Programming is : nosql\n",
      "The word found related to Programming is : programming\n",
      "The word found related to Programming is : python\n",
      "The word found related to Programming is : r\n",
      "The word found related to Programming is : sql\n"
     ]
    }
   ],
   "source": [
    "details('Programming')"
   ]
  },
  {
   "cell_type": "code",
   "execution_count": null,
   "metadata": {},
   "outputs": [],
   "source": []
  }
 ],
 "metadata": {
  "kernelspec": {
   "display_name": "Python 3",
   "language": "python",
   "name": "python3"
  },
  "language_info": {
   "codemirror_mode": {
    "name": "ipython",
    "version": 3
   },
   "file_extension": ".py",
   "mimetype": "text/x-python",
   "name": "python",
   "nbconvert_exporter": "python",
   "pygments_lexer": "ipython3",
   "version": "3.8.5"
  }
 },
 "nbformat": 4,
 "nbformat_minor": 4
}
